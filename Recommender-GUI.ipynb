{
 "cells": [
  {
   "cell_type": "code",
   "execution_count": 1,
   "metadata": {},
   "outputs": [],
   "source": [
    "import pandas as pd\n",
    "import numpy as np\n",
    "import ipywidgets as widgets\n",
    "from search_movie_data import *\n",
    "from IPython.display import display, clear_output"
   ]
  },
  {
   "cell_type": "code",
   "execution_count": 5,
   "metadata": {},
   "outputs": [],
   "source": [
    "movies = pd.read_csv('movies_preprocessed.csv')"
   ]
  },
  {
   "cell_type": "markdown",
   "metadata": {},
   "source": [
    "# Simple recommender: Highest-rated by genre"
   ]
  },
  {
   "cell_type": "code",
   "execution_count": 17,
   "metadata": {},
   "outputs": [],
   "source": [
    "genres = ['Horror', 'Adventure', 'Drama', 'IMAX', 'Sci-Fi', 'Action', 'Comedy',\n",
    "       'Mystery', 'Fantasy', 'Thriller', 'War', 'Documentary', 'Film-Noir',\n",
    "       'Western', 'Romance', 'Animation', 'Crime', 'Musical', 'Children']\n",
    "\n",
    "# Create dictionary of checkboxes for each genre; key is genre name\n",
    "checkboxes = {}\n",
    "for genre in genres:\n",
    "    checkboxes[genre] = widgets.Checkbox(\n",
    "        value=False,\n",
    "        description=genre,\n",
    "        disabled=False,\n",
    "        indent=False\n",
    "    )\n",
    "\n",
    "# Create search button for highest-rated movies\n",
    "button = widgets.Button(\n",
    "    description='Search highest rated',\n",
    "    disabled=False,\n",
    "    button_style='', # 'success', 'info', 'warning', 'danger' or ''\n",
    "    tooltip='Search highest rated',\n",
    "    #icon='check' # (FontAwesome names without the `fa-` prefix)\n",
    ")\n",
    "output = widgets.Output()\n",
    "\n",
    "def on_button_clicked(b):\n",
    "    with output:\n",
    "        clear_output(wait=True)\n",
    "        genres_selected = [key for key,val in checkboxes.items() if val.value]\n",
    "        print(highest_rated(movies, genres_selected))\n",
    "\n",
    "button.on_click(on_button_clicked)"
   ]
  },
  {
   "cell_type": "code",
   "execution_count": 20,
   "metadata": {},
   "outputs": [
    {
     "data": {
      "application/vnd.jupyter.widget-view+json": {
       "model_id": "9f39dbb65aa74b2ba2e68f23d7f56eb5",
       "version_major": 2,
       "version_minor": 0
      },
      "text/plain": [
       "HBox(children=(VBox(children=(Checkbox(value=False, description='Action', indent=False), Checkbox(value=False,…"
      ]
     },
     "metadata": {},
     "output_type": "display_data"
    },
    {
     "data": {
      "application/vnd.jupyter.widget-view+json": {
       "model_id": "c7b990497f334b35965ce2c227da2840",
       "version_major": 2,
       "version_minor": 0
      },
      "text/plain": [
       "Button(description='Search highest rated', style=ButtonStyle(), tooltip='Search highest rated')"
      ]
     },
     "metadata": {},
     "output_type": "display_data"
    },
    {
     "data": {
      "application/vnd.jupyter.widget-view+json": {
       "model_id": "0a40c59213e44ee38a49cec24c26d5fa",
       "version_major": 2,
       "version_minor": 0
      },
      "text/plain": [
       "Output(outputs=({'output_type': 'stream', 'text': '273     Shawshank Redemption, The\\n9172                 Pla…"
      ]
     },
     "metadata": {},
     "output_type": "display_data"
    }
   ],
   "source": [
    "# Sort genres alphabetically for checkbox display\n",
    "sorted_genres = sorted(checkboxes.keys())\n",
    "\n",
    "# Create three columns of checkboxes\n",
    "left_box = widgets.VBox([checkboxes[x] for x in sorted(checkboxes.keys())[:7]])\n",
    "center_box = widgets.VBox([checkboxes[x] for x in sorted(checkboxes.keys())[7:14]])\n",
    "right_box = widgets.VBox([checkboxes[x] for x in sorted(checkboxes.keys())[14:]])\n",
    "hbox = widgets.HBox([left_box, center_box, right_box])\n",
    "display(hbox)\n",
    "\n",
    "# Display search button\n",
    "display(button, output)"
   ]
  },
  {
   "cell_type": "markdown",
   "metadata": {},
   "source": [
    "# Search movie by title"
   ]
  },
  {
   "cell_type": "code",
   "execution_count": 21,
   "metadata": {},
   "outputs": [],
   "source": [
    "textbox = widgets.Text(\n",
    "    value='',\n",
    "    placeholder='Enter a movie title',\n",
    "    description='Movie title:',\n",
    "    disabled=False\n",
    ")\n",
    "\n",
    "button2 = widgets.Button(\n",
    "    description='Search title',\n",
    "    disabled=False,\n",
    "    button_style='', # 'success', 'info', 'warning', 'danger' or ''\n",
    "    tooltip='Search title',\n",
    "    #icon='check' # (FontAwesome names without the `fa-` prefix)\n",
    ")\n",
    "output2 = widgets.Output()\n",
    "\n",
    "def on_title_search_button_clicked(b):\n",
    "    with output2:\n",
    "        clear_output(wait=True)\n",
    "        print(search_title(movies, textbox.value))\n",
    "\n",
    "button2.on_click(on_title_search_button_clicked)"
   ]
  },
  {
   "cell_type": "code",
   "execution_count": 22,
   "metadata": {},
   "outputs": [
    {
     "data": {
      "application/vnd.jupyter.widget-view+json": {
       "model_id": "3479576fd4cd49e3bc063dc5f482e022",
       "version_major": 2,
       "version_minor": 0
      },
      "text/plain": [
       "Text(value='', description='Movie title:', placeholder='Enter a movie title')"
      ]
     },
     "metadata": {},
     "output_type": "display_data"
    },
    {
     "data": {
      "application/vnd.jupyter.widget-view+json": {
       "model_id": "8351ab524ab74d55be6b1a16fca393cb",
       "version_major": 2,
       "version_minor": 0
      },
      "text/plain": [
       "Button(description='Search title', style=ButtonStyle(), tooltip='Search title')"
      ]
     },
     "metadata": {},
     "output_type": "display_data"
    },
    {
     "data": {
      "application/vnd.jupyter.widget-view+json": {
       "model_id": "fadce9d4e55346178ac63ddb6d0e6008",
       "version_major": 2,
       "version_minor": 0
      },
      "text/plain": [
       "Output()"
      ]
     },
     "metadata": {},
     "output_type": "display_data"
    }
   ],
   "source": [
    "display(textbox)\n",
    "display(button2,output2)"
   ]
  },
  {
   "cell_type": "code",
   "execution_count": null,
   "metadata": {},
   "outputs": [],
   "source": []
  },
  {
   "cell_type": "code",
   "execution_count": null,
   "metadata": {},
   "outputs": [],
   "source": []
  }
 ],
 "metadata": {
  "kernelspec": {
   "display_name": "Python 3",
   "language": "python",
   "name": "python3"
  },
  "language_info": {
   "codemirror_mode": {
    "name": "ipython",
    "version": 3
   },
   "file_extension": ".py",
   "mimetype": "text/x-python",
   "name": "python",
   "nbconvert_exporter": "python",
   "pygments_lexer": "ipython3",
   "version": "3.8.3"
  }
 },
 "nbformat": 4,
 "nbformat_minor": 4
}
